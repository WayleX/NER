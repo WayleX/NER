{
 "cells": [
  {
   "cell_type": "markdown",
   "metadata": {},
   "source": [
    "## Dataset Creation\n",
    "\n",
    "To create dataset I used ChatGPT  - as recommended; other posibilities was to download dataset of most popular mountain names and than after downloading large number of text mark all names of mountain that he knows.\n",
    "\n",
    "With ChatGPT I tried to generate different use samples - tried to generate sentences as in conversation or as in scientific text. GPT was doing mediocre with range of name so I added some fixes."
   ]
  }
 ],
 "metadata": {
  "language_info": {
   "name": "python"
  }
 },
 "nbformat": 4,
 "nbformat_minor": 2
}
